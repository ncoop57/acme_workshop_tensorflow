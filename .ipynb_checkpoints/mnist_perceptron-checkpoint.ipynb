{
 "cells": [
  {
   "cell_type": "code",
   "execution_count": 2,
   "metadata": {},
   "outputs": [
    {
     "name": "stdout",
     "output_type": "stream",
     "text": [
      "Extracting data/train-images-idx3-ubyte.gz\n",
      "Extracting data/train-labels-idx1-ubyte.gz\n",
      "Extracting data/t10k-images-idx3-ubyte.gz\n",
      "Extracting data/t10k-labels-idx1-ubyte.gz\n"
     ]
    }
   ],
   "source": [
    "# Grab required libs and data\n",
    "\n",
    "import tensorflow as tf\n",
    "\n",
    "from tensorflow.examples.tutorials.mnist import input_data\n",
    "\n",
    "dataset = input_data.read_data_sets(\"data/\", one_hot = True)\n"
   ]
  },
  {
   "cell_type": "code",
   "execution_count": 7,
   "metadata": {},
   "outputs": [],
   "source": [
    "# Setup computational graph\n",
    "\n",
    "# Inputs\n",
    "X = tf.placeholder(tf.float32, [None, 784]) # Image inputs with 784 columns per row, 784 = 28 * 28\n",
    "y = tf.placeholder(tf.float32, [None, 10]) # Label inputs with 10 columns, only 1 row, 10 = number of classes (0 - 9)\n",
    "\n",
    "# Weights and biases: f(x) = xW + b\n",
    "W1 = tf.Variable(tf.random_normal([784, 256]))\n",
    "b1 = tf.Variable(tf.random_normal([256]))\n",
    "\n",
    "W2 = tf.Variable(tf.random_normal([256, 256]))\n",
    "b2 = tf.Variable(tf.random_normal([256]))\n",
    "\n",
    "W3 = tf.Variable(tf.random_normal([256, 10]))\n",
    "b3 = tf.Variable(tf.random_normal([10]))\n"
   ]
  },
  {
   "cell_type": "code",
   "execution_count": 8,
   "metadata": {},
   "outputs": [],
   "source": [
    "# Model\n",
    "def createModel(x):\n",
    "    hidden_layer1 = tf.matmul(x, W1) + b1\n",
    "    hidden_layer2 = tf.matmul(hidden_layer1, W2) + b2\n",
    "    output_layer = tf.matmul(hidden_layer2, W3) + b3\n",
    "    \n",
    "    return output_layer\n",
    "    \n",
    "model = createModel(X)\n",
    "loss = tf.reduce_mean(tf.nn.softmax_cross_entropy_with_logits(logits = model, labels = y))\n",
    "optimizer = tf.train.AdamOptimizer(0.001).minimize(loss)\n",
    "\n",
    "# Initialize everything\n",
    "init = tf.global_variables_initializer()"
   ]
  },
  {
   "cell_type": "code",
   "execution_count": 9,
   "metadata": {},
   "outputs": [
    {
     "name": "stdout",
     "output_type": "stream",
     "text": [
      "Epoch: 0 Loss: 291.629062770\n",
      "Epoch: 1 Loss: 93.174572693\n",
      "Epoch: 2 Loss: 67.893782961\n",
      "Epoch: 3 Loss: 55.205107362\n",
      "Epoch: 4 Loss: 47.529536185\n",
      "Epoch: 5 Loss: 41.454615433\n",
      "Epoch: 6 Loss: 36.818695534\n",
      "Epoch: 7 Loss: 32.979209213\n",
      "Epoch: 8 Loss: 30.848711652\n",
      "Epoch: 9 Loss: 28.419449494\n",
      "Finished training!\n",
      "Accuracy: 0.8897\n"
     ]
    }
   ],
   "source": [
    "# Train Model\n",
    "epochs = 10\n",
    "batch_size = 100\n",
    "\n",
    "with tf.Session() as sess:\n",
    "    sess.run(init)\n",
    "    \n",
    "    # Training\n",
    "    for epoch in range(epochs):\n",
    "        avg_loss = 0.\n",
    "        num_batches = int(dataset.train.num_examples / batch_size)\n",
    "        \n",
    "        for batch in range(num_batches):\n",
    "            xs, ys = dataset.train.next_batch(batch_size)\n",
    "            \n",
    "            # Run through model\n",
    "            _, l = sess.run([optimizer, loss], feed_dict = {X: xs, y: ys})\n",
    "            \n",
    "            avg_loss += l / num_batches\n",
    "        \n",
    "        # Show progress\n",
    "        print(\"Epoch:\", epoch, \"Loss: {:.9f}\".format(avg_loss))\n",
    "        \n",
    "    print(\"Finished training!\")\n",
    "    \n",
    "    # Testing Model\n",
    "    correct_prediction = tf.equal(tf.argmax(model, 1), tf.argmax(y, 1))\n",
    "    accuracy = tf.reduce_mean(tf.cast(correct_prediction, tf.float32))\n",
    "    print(\"Accuracy:\", accuracy.eval({X: dataset.test.images, y: dataset.test.labels}))"
   ]
  },
  {
   "cell_type": "code",
   "execution_count": null,
   "metadata": {},
   "outputs": [],
   "source": [
    "# Use Model"
   ]
  }
 ],
 "metadata": {
  "kernelspec": {
   "display_name": "Python 3",
   "language": "python",
   "name": "python3"
  },
  "language_info": {
   "codemirror_mode": {
    "name": "ipython",
    "version": 3
   },
   "file_extension": ".py",
   "mimetype": "text/x-python",
   "name": "python",
   "nbconvert_exporter": "python",
   "pygments_lexer": "ipython3",
   "version": "3.5.2"
  }
 },
 "nbformat": 4,
 "nbformat_minor": 2
}
